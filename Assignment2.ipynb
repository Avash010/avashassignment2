{
 "cells": [
  {
   "cell_type": "markdown",
   "id": "0619d371-dd4a-4cd7-a4f8-80b9a1c5a05e",
   "metadata": {},
   "source": [
    "# Q1. How do you comment code in Python? What are the different types of comments?"
   ]
  },
  {
   "cell_type": "code",
   "execution_count": 2,
   "id": "a4fdc107-c5bf-46b4-9697-3329e6de2e13",
   "metadata": {},
   "outputs": [],
   "source": [
    "# We can comment single-line code in python by adding ## before starting of statement.\n",
    "# If we we have multi-line codes then by placing '' or \"\" three times before and after statements or press ctrl + / by selecting all statement."
   ]
  },
  {
   "cell_type": "code",
   "execution_count": 3,
   "id": "7b9cfce1-4085-4c51-bd2b-42695134db8b",
   "metadata": {},
   "outputs": [],
   "source": [
    "## print(type(i)) \"Here adding ## before starting of statement\""
   ]
  },
  {
   "cell_type": "code",
   "execution_count": 4,
   "id": "add50ba8-7941-4bac-9d99-6a4702796d51",
   "metadata": {},
   "outputs": [
    {
     "data": {
      "text/plain": [
       "'Student_ids = [\\'S01\\',\\'S02\\',\\'S03\\',\\'S04\\',\\'S05\\']\\nGender = [\\'M\\',\\'F\\',\\'F\\',\\'M\\',\\'F\\']\\nDept = [\\'CS\\',\\'ECE\\',\\'ME\\',\\'CS\\',\\'CS\\']\\nSessional_Perc = [45,60,73,65.3,71.9]\\nFinal_Sem_marks = [680, 800, 541.0079999999999, 650, 811.5120000000001]\\nBacklogs = [\\'B\\', \\'B\\', \\'NB\\', \\'B\\', \\'NB\\'] Here by placing \"\" three times before and after statement'"
      ]
     },
     "execution_count": 4,
     "metadata": {},
     "output_type": "execute_result"
    }
   ],
   "source": [
    "\"\"\"Student_ids = ['S01','S02','S03','S04','S05']\n",
    "Gender = ['M','F','F','M','F']\n",
    "Dept = ['CS','ECE','ME','CS','CS']\n",
    "Sessional_Perc = [45,60,73,65.3,71.9]\n",
    "Final_Sem_marks = [680, 800, 541.0079999999999, 650, 811.5120000000001]\n",
    "Backlogs = ['B', 'B', 'NB', 'B', 'NB'] Here by placing \"\" three times before and after statement\"\"\""
   ]
  },
  {
   "cell_type": "code",
   "execution_count": 7,
   "id": "a7563af7-3272-41c0-8291-779099e938aa",
   "metadata": {},
   "outputs": [],
   "source": [
    "# # Student_ids = ['S01','S02','S03','S04','S05']\n",
    "# # Gender = ['M','F','F','M','F']\n",
    "# # Dept = ['CS','ECE','ME','CS','CS']\n",
    "# # Sessional_Perc = [45,60,73,65.3,71.9]\n",
    "# # Final_Sem_marks = [680, 800, 541.0079999999999, 650, 811.5120000000001]\n",
    "# # Backlogs = ['B', 'B', 'NB', 'B', 'NB'] \n",
    "# Here by pressing ctrl + / by selecting all statement."
   ]
  },
  {
   "cell_type": "raw",
   "id": "96750fda-7d14-4398-a6c7-d451a4e4223a",
   "metadata": {},
   "source": [
    "We can also comment code by changing cell type from code to markdown or raw "
   ]
  },
  {
   "cell_type": "raw",
   "id": "6c15e366-9f01-439c-8d4e-dde7897f2043",
   "metadata": {},
   "source": [
    "Updated_Student = ['S01','S04']\n",
    "for i in range(len(Student_ids)):\n",
    "    if Student_ids[i] == Updated_Student:\n",
    "        Backlogs[i] = 'B'   \n",
    "\"Here cell type changed from code to raw"
   ]
  },
  {
   "cell_type": "markdown",
   "id": "f55f2e98-6706-4c27-9c95-e14fa79141db",
   "metadata": {},
   "source": [
    "# Q2. What are variables in Python? How do you declare and assign values to variables?"
   ]
  },
  {
   "cell_type": "code",
   "execution_count": 9,
   "id": "c4b705ec-1372-4e7b-90eb-f302783cac23",
   "metadata": {},
   "outputs": [],
   "source": [
    "# variable are string of characters followed by number (if required) to store data by using assignment operator ="
   ]
  },
  {
   "cell_type": "code",
   "execution_count": null,
   "id": "353d080e-010b-49a2-b9a6-5e3e1ba3c005",
   "metadata": {},
   "outputs": [],
   "source": [
    "# # # We can declare variable by assigning value to it.\n",
    "# If we assign same character variable multiple times, then last assigned value will overwrite previous value stored in that variable.\n",
    "# # Below are the examples of different types of data assign to different types of variables "
   ]
  },
  {
   "cell_type": "code",
   "execution_count": 15,
   "id": "b8c40866-e438-4330-bdc7-5bd379d3bcf5",
   "metadata": {},
   "outputs": [],
   "source": [
    "a = 5\n",
    "b = True\n",
    "c = 3+5j\n",
    "d = 'Panda'\n",
    "e = 34.56\n",
    "l = [1,2,3,34.56,False,2+4j,\"Data\"]\n",
    "t = (23,4.5,2+5j,True,'Science')\n",
    "s = {1,4,7,4.7,True,\"User\"}\n",
    "d1 = {\"int\":[1,2,3],\"str\":(\"Data\",\"Science\"),\"float\":{12.21,34.423}}"
   ]
  },
  {
   "cell_type": "code",
   "execution_count": 11,
   "id": "4ac1ad00-fe20-44b5-927d-1523ba64f373",
   "metadata": {},
   "outputs": [
    {
     "data": {
      "text/plain": [
       "int"
      ]
     },
     "execution_count": 11,
     "metadata": {},
     "output_type": "execute_result"
    }
   ],
   "source": [
    "type(a)"
   ]
  },
  {
   "cell_type": "code",
   "execution_count": 12,
   "id": "6b2285b4-c631-42c2-bf84-4d583832fb27",
   "metadata": {},
   "outputs": [
    {
     "data": {
      "text/plain": [
       "bool"
      ]
     },
     "execution_count": 12,
     "metadata": {},
     "output_type": "execute_result"
    }
   ],
   "source": [
    "type(b)"
   ]
  },
  {
   "cell_type": "code",
   "execution_count": 13,
   "id": "e17e2028-aa74-4655-b569-b83f7fa65761",
   "metadata": {},
   "outputs": [
    {
     "data": {
      "text/plain": [
       "complex"
      ]
     },
     "execution_count": 13,
     "metadata": {},
     "output_type": "execute_result"
    }
   ],
   "source": [
    "type(c)"
   ]
  },
  {
   "cell_type": "code",
   "execution_count": 16,
   "id": "842b8a6a-d3ce-4416-89b1-4d376d944d1e",
   "metadata": {},
   "outputs": [
    {
     "data": {
      "text/plain": [
       "str"
      ]
     },
     "execution_count": 16,
     "metadata": {},
     "output_type": "execute_result"
    }
   ],
   "source": [
    "type(d)"
   ]
  },
  {
   "cell_type": "code",
   "execution_count": 17,
   "id": "dc958759-b0e9-4f29-8a95-a3dfefb38dd4",
   "metadata": {},
   "outputs": [
    {
     "data": {
      "text/plain": [
       "float"
      ]
     },
     "execution_count": 17,
     "metadata": {},
     "output_type": "execute_result"
    }
   ],
   "source": [
    "type(e)"
   ]
  },
  {
   "cell_type": "code",
   "execution_count": 19,
   "id": "da94d70b-eb5d-4d24-b036-cd9b0025374e",
   "metadata": {},
   "outputs": [
    {
     "data": {
      "text/plain": [
       "list"
      ]
     },
     "execution_count": 19,
     "metadata": {},
     "output_type": "execute_result"
    }
   ],
   "source": [
    "type(l)"
   ]
  },
  {
   "cell_type": "code",
   "execution_count": 20,
   "id": "0f34b131-2bba-4701-8ac2-61ee85912fac",
   "metadata": {},
   "outputs": [
    {
     "data": {
      "text/plain": [
       "tuple"
      ]
     },
     "execution_count": 20,
     "metadata": {},
     "output_type": "execute_result"
    }
   ],
   "source": [
    "type(t)"
   ]
  },
  {
   "cell_type": "code",
   "execution_count": 21,
   "id": "87398dde-305a-4d75-acd5-6a8629285c12",
   "metadata": {},
   "outputs": [
    {
     "data": {
      "text/plain": [
       "set"
      ]
     },
     "execution_count": 21,
     "metadata": {},
     "output_type": "execute_result"
    }
   ],
   "source": [
    "type(s)"
   ]
  },
  {
   "cell_type": "code",
   "execution_count": 22,
   "id": "17534574-e8d4-4676-bc39-23103e11089c",
   "metadata": {},
   "outputs": [
    {
     "data": {
      "text/plain": [
       "dict"
      ]
     },
     "execution_count": 22,
     "metadata": {},
     "output_type": "execute_result"
    }
   ],
   "source": [
    "type(d1)"
   ]
  },
  {
   "cell_type": "markdown",
   "id": "1c22aff3-5051-4184-9bc7-6f51f2db4663",
   "metadata": {},
   "source": [
    "# Q3. How do you convert one data type to another in Python?"
   ]
  },
  {
   "cell_type": "code",
   "execution_count": null,
   "id": "878e52e2-1744-4d5a-ac91-e20bc82f0179",
   "metadata": {},
   "outputs": [],
   "source": [
    "# There are many built-in functions available to covert one data type to another like int(),str(),list() etc."
   ]
  },
  {
   "cell_type": "code",
   "execution_count": 23,
   "id": "a6bcff57-7479-4ddc-b79c-b6fdd7c286fb",
   "metadata": {},
   "outputs": [],
   "source": [
    "a = 123"
   ]
  },
  {
   "cell_type": "code",
   "execution_count": 24,
   "id": "c99aed84-e8a7-42da-a060-5676b52babda",
   "metadata": {},
   "outputs": [
    {
     "data": {
      "text/plain": [
       "int"
      ]
     },
     "execution_count": 24,
     "metadata": {},
     "output_type": "execute_result"
    }
   ],
   "source": [
    "type(a)"
   ]
  },
  {
   "cell_type": "code",
   "execution_count": 25,
   "id": "c31e7ed0-6965-49e6-a5a2-ea17b30a0bf7",
   "metadata": {},
   "outputs": [
    {
     "data": {
      "text/plain": [
       "'123'"
      ]
     },
     "execution_count": 25,
     "metadata": {},
     "output_type": "execute_result"
    }
   ],
   "source": [
    "str(a)"
   ]
  },
  {
   "cell_type": "code",
   "execution_count": 27,
   "id": "d41f5594-a735-469c-98e1-5b017f8bdd05",
   "metadata": {},
   "outputs": [],
   "source": [
    "b = 'Data',\"Science\",'pwskills'"
   ]
  },
  {
   "cell_type": "code",
   "execution_count": 28,
   "id": "58930829-3135-440c-90de-69fdae8f1a2c",
   "metadata": {},
   "outputs": [
    {
     "data": {
      "text/plain": [
       "['Data', 'Science', 'pwskills']"
      ]
     },
     "execution_count": 28,
     "metadata": {},
     "output_type": "execute_result"
    }
   ],
   "source": [
    "list(b)"
   ]
  },
  {
   "cell_type": "code",
   "execution_count": 30,
   "id": "242bfd8b-56dd-4a8c-9ff7-995e2890f6c2",
   "metadata": {},
   "outputs": [
    {
     "data": {
      "text/plain": [
       "('Data', 'Science', 'pwskills')"
      ]
     },
     "execution_count": 30,
     "metadata": {},
     "output_type": "execute_result"
    }
   ],
   "source": [
    "tuple(b)"
   ]
  },
  {
   "cell_type": "markdown",
   "id": "ca428ba5-e092-4bb6-b68c-097a00b10630",
   "metadata": {},
   "source": [
    "# Q4. How do you write and execute a Python script from the command line?"
   ]
  },
  {
   "cell_type": "code",
   "execution_count": null,
   "id": "74976959-4a11-4f44-a172-36d05f356466",
   "metadata": {},
   "outputs": [],
   "source": [
    "# First, we have to make a new file on IDLE(python 3.11)\n",
    "# we write code{for ex: print(\"Avash Kumar Panda\")} and save it on desktop naming name_script.py\n",
    "# (We also create python file using notepad,but while saving the file we must put .py extension to it)\n",
    "# now we open command prompt & we have to first find location of file by changing its directory{C:\\Users\\avash>cd desktop}\n",
    "# Then execute python script by typing C:\\Users\\avash\\Desktop>python name_script.py\n",
    "# We get output Avash Kumar Panda"
   ]
  },
  {
   "cell_type": "markdown",
   "id": "4144bc29-05da-480b-a533-8e7d94419cbd",
   "metadata": {},
   "source": [
    "# Q5. Given a list my_list = [1, 2, 3, 4, 5], write the code to slice the list and obtain the sub-list [2, 3]."
   ]
  },
  {
   "cell_type": "code",
   "execution_count": 4,
   "id": "b331ef7c-4dbf-4854-be13-7a43be8f2395",
   "metadata": {},
   "outputs": [],
   "source": [
    "my_list = [1, 2, 3, 4, 5]\n",
    "my_sub_list = my_list[1:3]"
   ]
  },
  {
   "cell_type": "code",
   "execution_count": 5,
   "id": "e6b5bfbb-5099-42a4-b99d-bab9dbf4fd77",
   "metadata": {},
   "outputs": [
    {
     "data": {
      "text/plain": [
       "[2, 3]"
      ]
     },
     "execution_count": 5,
     "metadata": {},
     "output_type": "execute_result"
    }
   ],
   "source": [
    "my_sub_list"
   ]
  },
  {
   "cell_type": "markdown",
   "id": "f2aa1973-a1f1-419d-836a-226d1bcb4388",
   "metadata": {},
   "source": [
    "# Q6. What is a complex number in mathematics, and how is it represented in Python?"
   ]
  },
  {
   "cell_type": "code",
   "execution_count": 6,
   "id": "73472a90-1642-495b-8875-917fb6672b4f",
   "metadata": {},
   "outputs": [],
   "source": [
    "# Complex number are the combination of real number & imaginary number.\n",
    "# it is represented by j in imaginary part."
   ]
  },
  {
   "cell_type": "code",
   "execution_count": 7,
   "id": "b69ec70e-e9d9-4bac-9f97-0bb734db8a2a",
   "metadata": {},
   "outputs": [],
   "source": [
    "a = 4+6j"
   ]
  },
  {
   "cell_type": "code",
   "execution_count": 8,
   "id": "f8b20730-27e0-413c-8b32-107337412765",
   "metadata": {},
   "outputs": [
    {
     "data": {
      "text/plain": [
       "complex"
      ]
     },
     "execution_count": 8,
     "metadata": {},
     "output_type": "execute_result"
    }
   ],
   "source": [
    "type(a)"
   ]
  },
  {
   "cell_type": "code",
   "execution_count": 10,
   "id": "2f440b98-b819-413c-8fd7-cee18e5c8568",
   "metadata": {},
   "outputs": [
    {
     "data": {
      "text/plain": [
       "4.0"
      ]
     },
     "execution_count": 10,
     "metadata": {},
     "output_type": "execute_result"
    }
   ],
   "source": [
    "a.real"
   ]
  },
  {
   "cell_type": "code",
   "execution_count": 11,
   "id": "2a0d610f-448a-4ef2-af3d-99a4c0402c51",
   "metadata": {},
   "outputs": [
    {
     "data": {
      "text/plain": [
       "6.0"
      ]
     },
     "execution_count": 11,
     "metadata": {},
     "output_type": "execute_result"
    }
   ],
   "source": [
    "a.imag"
   ]
  },
  {
   "cell_type": "markdown",
   "id": "334c0441-fd44-4b78-ad49-c6fca6f7a413",
   "metadata": {},
   "source": [
    "# Q7. What is the correct way to declare a variable named age and assign the value 25 to it?"
   ]
  },
  {
   "cell_type": "code",
   "execution_count": 12,
   "id": "8d406a96-e568-4197-a5e6-8b22682c15c0",
   "metadata": {},
   "outputs": [],
   "source": [
    "age = 25"
   ]
  },
  {
   "cell_type": "markdown",
   "id": "df9b7f16-a1fe-4568-a3d7-38622c39feee",
   "metadata": {},
   "source": [
    "# Q8. Declare a variable named price and assign the value 9.99 to it. What data type does this variable belong to?"
   ]
  },
  {
   "cell_type": "code",
   "execution_count": 13,
   "id": "08142d19-98f6-4250-9122-108ebd0a022b",
   "metadata": {},
   "outputs": [],
   "source": [
    "price = 9.99"
   ]
  },
  {
   "cell_type": "code",
   "execution_count": 14,
   "id": "c7870577-5965-4ba0-8e27-36548edfb448",
   "metadata": {},
   "outputs": [
    {
     "data": {
      "text/plain": [
       "float"
      ]
     },
     "execution_count": 14,
     "metadata": {},
     "output_type": "execute_result"
    }
   ],
   "source": [
    "type(price)"
   ]
  },
  {
   "cell_type": "markdown",
   "id": "4e4eb0bf-1e62-4c86-8b4b-4456a7fdceaa",
   "metadata": {},
   "source": [
    "# Q9. Create a variable named name and assign your full name to it as a string. How would you print the value of this variable?"
   ]
  },
  {
   "cell_type": "code",
   "execution_count": 15,
   "id": "61eefd3e-d633-47ec-934d-2d7dbb0b2426",
   "metadata": {},
   "outputs": [],
   "source": [
    "name = 'Avash Kumar Panda'"
   ]
  },
  {
   "cell_type": "code",
   "execution_count": 16,
   "id": "43f2e46d-c566-44f8-b8b2-50e4a322d116",
   "metadata": {},
   "outputs": [
    {
     "data": {
      "text/plain": [
       "'Avash Kumar Panda'"
      ]
     },
     "execution_count": 16,
     "metadata": {},
     "output_type": "execute_result"
    }
   ],
   "source": [
    "name"
   ]
  },
  {
   "cell_type": "markdown",
   "id": "881ab1e4-780a-4bad-a759-ac7613c79faf",
   "metadata": {},
   "source": [
    "# Q10. Given the string \"Hello, World!\", extract the substring \"World\"."
   ]
  },
  {
   "cell_type": "code",
   "execution_count": 17,
   "id": "14f6d937-1efa-4de1-8ae1-3f883c56f4f2",
   "metadata": {},
   "outputs": [],
   "source": [
    "a = \"Hello, World!\""
   ]
  },
  {
   "cell_type": "code",
   "execution_count": 18,
   "id": "c029a8c5-f9d8-4de7-9edb-f01c864cafa1",
   "metadata": {},
   "outputs": [],
   "source": [
    "b = a[7:12]"
   ]
  },
  {
   "cell_type": "code",
   "execution_count": 19,
   "id": "774a3c68-9113-4007-973d-4205bdfb3dab",
   "metadata": {},
   "outputs": [
    {
     "data": {
      "text/plain": [
       "'World'"
      ]
     },
     "execution_count": 19,
     "metadata": {},
     "output_type": "execute_result"
    }
   ],
   "source": [
    "b"
   ]
  },
  {
   "cell_type": "markdown",
   "id": "aa013da6-a3ed-4ce7-9bbf-c8086ea3d386",
   "metadata": {
    "tags": []
   },
   "source": [
    "# Q11. Create a variable named \"is_student\" and assign it a boolean value indicating whether you are currently a student or not."
   ]
  },
  {
   "cell_type": "code",
   "execution_count": 20,
   "id": "84254ec9-19ce-4fe1-9ad1-56baa09c946f",
   "metadata": {},
   "outputs": [],
   "source": [
    "is_student = False"
   ]
  }
 ],
 "metadata": {
  "kernelspec": {
   "display_name": "Python 3 (ipykernel)",
   "language": "python",
   "name": "python3"
  },
  "language_info": {
   "codemirror_mode": {
    "name": "ipython",
    "version": 3
   },
   "file_extension": ".py",
   "mimetype": "text/x-python",
   "name": "python",
   "nbconvert_exporter": "python",
   "pygments_lexer": "ipython3",
   "version": "3.10.8"
  }
 },
 "nbformat": 4,
 "nbformat_minor": 5
}
